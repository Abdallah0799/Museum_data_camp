{
 "cells": [
  {
   "cell_type": "code",
   "execution_count": 3,
   "metadata": {},
   "outputs": [],
   "source": [
    "import pandas as pd\n",
    "import numpy as np\n",
    "from matplotlib import pyplot as plt\n",
    "from sklearn.feature_extraction.text import CountVectorizer\n",
    "from process_data import prep_classification, prep_culture, prep_medium, find_dims, prep_date"
   ]
  },
  {
   "cell_type": "code",
   "execution_count": 4,
   "metadata": {},
   "outputs": [],
   "source": [
    "data = pd.read_csv('MetObjects.csv', low_memory=False)"
   ]
  },
  {
   "cell_type": "code",
   "execution_count": 5,
   "metadata": {},
   "outputs": [
    {
     "data": {
      "text/plain": [
       "(477804, 54)"
      ]
     },
     "execution_count": 5,
     "metadata": {},
     "output_type": "execute_result"
    }
   ],
   "source": [
    "data.shape"
   ]
  },
  {
   "cell_type": "markdown",
   "metadata": {},
   "source": [
    "# Cleaning NaN values"
   ]
  },
  {
   "cell_type": "code",
   "execution_count": 6,
   "metadata": {},
   "outputs": [],
   "source": [
    "data = data.dropna(axis=0, subset=['Medium', 'Classification','Dimensions','Culture','Object Begin Date'])"
   ]
  },
  {
   "cell_type": "code",
   "execution_count": 7,
   "metadata": {},
   "outputs": [
    {
     "data": {
      "text/plain": [
       "(138986, 54)"
      ]
     },
     "execution_count": 7,
     "metadata": {},
     "output_type": "execute_result"
    }
   ],
   "source": [
    "data.shape"
   ]
  },
  {
   "cell_type": "markdown",
   "metadata": {},
   "source": [
    "# Preprocessing of columns"
   ]
  },
  {
   "cell_type": "code",
   "execution_count": 8,
   "metadata": {},
   "outputs": [],
   "source": [
    "# medium column\n",
    "Medium = prep_medium(data)"
   ]
  },
  {
   "cell_type": "code",
   "execution_count": 9,
   "metadata": {},
   "outputs": [],
   "source": [
    "data['Medium'] = Medium"
   ]
  },
  {
   "cell_type": "code",
   "execution_count": 10,
   "metadata": {},
   "outputs": [],
   "source": [
    "data[data['Medium']==\"\"]=pd.NA"
   ]
  },
  {
   "cell_type": "code",
   "execution_count": 11,
   "metadata": {},
   "outputs": [],
   "source": [
    "data = data.dropna(subset=['Medium'], axis=0)"
   ]
  },
  {
   "cell_type": "code",
   "execution_count": 12,
   "metadata": {},
   "outputs": [],
   "source": [
    "# classification column\n",
    "\n",
    "Classification = prep_classification(data)\n",
    "\n",
    "data['Classification'] = Classification"
   ]
  },
  {
   "cell_type": "code",
   "execution_count": 13,
   "metadata": {},
   "outputs": [],
   "source": [
    "data[data['Classification']=='(not']=pd.NA"
   ]
  },
  {
   "cell_type": "code",
   "execution_count": 14,
   "metadata": {},
   "outputs": [],
   "source": [
    "data = data.dropna(subset=['Classification'], axis=0)"
   ]
  },
  {
   "cell_type": "code",
   "execution_count": 15,
   "metadata": {},
   "outputs": [],
   "source": [
    "# Culture\n",
    "\n",
    "Culture = prep_culture(data)\n",
    "data['Culture']=Culture"
   ]
  },
  {
   "cell_type": "code",
   "execution_count": 16,
   "metadata": {},
   "outputs": [],
   "source": [
    "# hitorical_period\n",
    "\n",
    "historical_period = prep_date(data)\n",
    "data['Historical Period'] = historical_period"
   ]
  },
  {
   "cell_type": "code",
   "execution_count": 17,
   "metadata": {},
   "outputs": [
    {
     "data": {
      "text/plain": [
       "' \\nfor i,description in enumerate(df[\"Dimensions\"]):\\n    print(i+1)\\n    found_dims = find_dims(description) # dico\\n    for k in found_dims.keys():\\n        if k in [\"height\", \"width\", \"depth\", \"diam\"]: # just in case {} or {\"radius\"}\\n            df.loc[i,k] = found_dims[k]\\n        if k==\"radius\":\\n            print(k) \\n            \\n'"
      ]
     },
     "execution_count": 17,
     "metadata": {},
     "output_type": "execute_result"
    }
   ],
   "source": [
    "# dimensions?\n",
    "\n",
    "# quand je lance c'est très long (2h d'execution envirion d'apres mes calculs), c'est normal?\n",
    "\n",
    "\"\"\" \n",
    "for i,description in enumerate(df[\"Dimensions\"]):\n",
    "    print(i+1)\n",
    "    found_dims = find_dims(description) # dico\n",
    "    for k in found_dims.keys():\n",
    "        if k in [\"height\", \"width\", \"depth\", \"diam\"]: # just in case {} or {\"radius\"}\n",
    "            df.loc[i,k] = found_dims[k]\n",
    "        if k==\"radius\":\n",
    "            print(k) \n",
    "            \n",
    "\"\"\""
   ]
  },
  {
   "cell_type": "markdown",
   "metadata": {},
   "source": [
    "# saving the final dataframe as a csv file"
   ]
  },
  {
   "cell_type": "code",
   "execution_count": 19,
   "metadata": {},
   "outputs": [
    {
     "data": {
      "text/html": [
       "<div>\n",
       "<style scoped>\n",
       "    .dataframe tbody tr th:only-of-type {\n",
       "        vertical-align: middle;\n",
       "    }\n",
       "\n",
       "    .dataframe tbody tr th {\n",
       "        vertical-align: top;\n",
       "    }\n",
       "\n",
       "    .dataframe thead th {\n",
       "        text-align: right;\n",
       "    }\n",
       "</style>\n",
       "<table border=\"1\" class=\"dataframe\">\n",
       "  <thead>\n",
       "    <tr style=\"text-align: right;\">\n",
       "      <th></th>\n",
       "      <th>Medium</th>\n",
       "      <th>Classification</th>\n",
       "      <th>Dimensions</th>\n",
       "      <th>Culture</th>\n",
       "      <th>Object Begin Date</th>\n",
       "      <th>Historical Period</th>\n",
       "    </tr>\n",
       "  </thead>\n",
       "  <tbody>\n",
       "    <tr>\n",
       "      <th>17184</th>\n",
       "      <td>cotton</td>\n",
       "      <td>Textiles</td>\n",
       "      <td>Overall: 116 3/4 × 103 in. (296.5 × 261.6 cm)</td>\n",
       "      <td>Indian</td>\n",
       "      <td>1730</td>\n",
       "      <td>Modern Times</td>\n",
       "    </tr>\n",
       "    <tr>\n",
       "      <th>17274</th>\n",
       "      <td>gold</td>\n",
       "      <td>Armor</td>\n",
       "      <td>H. 4 3/4 in. (12.07 cm); greatest W. 4 1/2 in....</td>\n",
       "      <td>Anglo-American</td>\n",
       "      <td>1781</td>\n",
       "      <td>Modern Times</td>\n",
       "    </tr>\n",
       "    <tr>\n",
       "      <th>17275</th>\n",
       "      <td>alloy,copper,gold,iron,steel,wood</td>\n",
       "      <td>Swords</td>\n",
       "      <td>L. 41 9/16 in. (105.5 cm); L. of blade 35 1/6 ...</td>\n",
       "      <td>Japanese</td>\n",
       "      <td>1801</td>\n",
       "      <td>Contemporary Era</td>\n",
       "    </tr>\n",
       "    <tr>\n",
       "      <th>17276</th>\n",
       "      <td>gold,steel</td>\n",
       "      <td>Armor</td>\n",
       "      <td>L. 5 3/4 in. (14.5 cm)</td>\n",
       "      <td>French</td>\n",
       "      <td>1525</td>\n",
       "      <td>Modern Times</td>\n",
       "    </tr>\n",
       "    <tr>\n",
       "      <th>17278</th>\n",
       "      <td>gold,iron,silver</td>\n",
       "      <td>Sword</td>\n",
       "      <td>D. 3 1/4 in. (8.3 cm); thickness 9/16 in. (1.4...</td>\n",
       "      <td>Japanese</td>\n",
       "      <td>1701</td>\n",
       "      <td>Modern Times</td>\n",
       "    </tr>\n",
       "    <tr>\n",
       "      <th>...</th>\n",
       "      <td>...</td>\n",
       "      <td>...</td>\n",
       "      <td>...</td>\n",
       "      <td>...</td>\n",
       "      <td>...</td>\n",
       "      <td>...</td>\n",
       "    </tr>\n",
       "    <tr>\n",
       "      <th>477559</th>\n",
       "      <td>wood</td>\n",
       "      <td>boxes</td>\n",
       "      <td>Outer wooden box: L. 15 1/2 in. (39.4 cm); W. ...</td>\n",
       "      <td>Japanese</td>\n",
       "      <td>1801</td>\n",
       "      <td>Contemporary Era</td>\n",
       "    </tr>\n",
       "    <tr>\n",
       "      <th>477569</th>\n",
       "      <td>terracotta</td>\n",
       "      <td>Vases</td>\n",
       "      <td>2 5/8 × 1 1/2 × 3 3/4 in., 1.764oz. (6.7 × 3.8...</td>\n",
       "      <td>Cypriot</td>\n",
       "      <td>-2000</td>\n",
       "      <td>Antiquity</td>\n",
       "    </tr>\n",
       "    <tr>\n",
       "      <th>477570</th>\n",
       "      <td>bronze</td>\n",
       "      <td>Sculpture</td>\n",
       "      <td>Height: 26 15/16 in. (68.5 cm)</td>\n",
       "      <td>British</td>\n",
       "      <td>1882</td>\n",
       "      <td>Contemporary Era</td>\n",
       "    </tr>\n",
       "    <tr>\n",
       "      <th>477571</th>\n",
       "      <td>terracotta</td>\n",
       "      <td>Vases</td>\n",
       "      <td>4 1/2 × 2 3/4 × 6 1/4 in., 5.114oz. (11.4 × 7 ...</td>\n",
       "      <td>Cypriot</td>\n",
       "      <td>-1100</td>\n",
       "      <td>Antiquity</td>\n",
       "    </tr>\n",
       "    <tr>\n",
       "      <th>477572</th>\n",
       "      <td>terracotta</td>\n",
       "      <td>Vases</td>\n",
       "      <td>7 1/2 × 5 1/2 in., 16.753oz. (19.1 × 14 cm, 475g)</td>\n",
       "      <td>Mycenaean</td>\n",
       "      <td>-1376</td>\n",
       "      <td>Antiquity</td>\n",
       "    </tr>\n",
       "  </tbody>\n",
       "</table>\n",
       "<p>106699 rows × 6 columns</p>\n",
       "</div>"
      ],
      "text/plain": [
       "                                   Medium Classification  \\\n",
       "17184                              cotton       Textiles   \n",
       "17274                                gold          Armor   \n",
       "17275   alloy,copper,gold,iron,steel,wood         Swords   \n",
       "17276                          gold,steel          Armor   \n",
       "17278                    gold,iron,silver          Sword   \n",
       "...                                   ...            ...   \n",
       "477559                               wood          boxes   \n",
       "477569                         terracotta          Vases   \n",
       "477570                             bronze      Sculpture   \n",
       "477571                         terracotta          Vases   \n",
       "477572                         terracotta          Vases   \n",
       "\n",
       "                                               Dimensions         Culture  \\\n",
       "17184       Overall: 116 3/4 × 103 in. (296.5 × 261.6 cm)          Indian   \n",
       "17274   H. 4 3/4 in. (12.07 cm); greatest W. 4 1/2 in....  Anglo-American   \n",
       "17275   L. 41 9/16 in. (105.5 cm); L. of blade 35 1/6 ...        Japanese   \n",
       "17276                              L. 5 3/4 in. (14.5 cm)          French   \n",
       "17278   D. 3 1/4 in. (8.3 cm); thickness 9/16 in. (1.4...        Japanese   \n",
       "...                                                   ...             ...   \n",
       "477559  Outer wooden box: L. 15 1/2 in. (39.4 cm); W. ...        Japanese   \n",
       "477569  2 5/8 × 1 1/2 × 3 3/4 in., 1.764oz. (6.7 × 3.8...         Cypriot   \n",
       "477570                     Height: 26 15/16 in. (68.5 cm)         British   \n",
       "477571  4 1/2 × 2 3/4 × 6 1/4 in., 5.114oz. (11.4 × 7 ...         Cypriot   \n",
       "477572  7 1/2 × 5 1/2 in., 16.753oz. (19.1 × 14 cm, 475g)       Mycenaean   \n",
       "\n",
       "       Object Begin Date Historical Period  \n",
       "17184               1730      Modern Times  \n",
       "17274               1781      Modern Times  \n",
       "17275               1801  Contemporary Era  \n",
       "17276               1525      Modern Times  \n",
       "17278               1701      Modern Times  \n",
       "...                  ...               ...  \n",
       "477559              1801  Contemporary Era  \n",
       "477569             -2000         Antiquity  \n",
       "477570              1882  Contemporary Era  \n",
       "477571             -1100         Antiquity  \n",
       "477572             -1376         Antiquity  \n",
       "\n",
       "[106699 rows x 6 columns]"
      ]
     },
     "execution_count": 19,
     "metadata": {},
     "output_type": "execute_result"
    }
   ],
   "source": [
    "data[['Medium', 'Classification','Dimensions','Culture','Object Begin Date', \"Historical Period\"]]"
   ]
  },
  {
   "cell_type": "code",
   "execution_count": null,
   "metadata": {},
   "outputs": [],
   "source": [
    "# quand le probleme des dimensions reglé \n",
    "# on peut sauvergarder le dataframe final \n",
    "# avec la ligne d'après :\n",
    "\n",
    "# data.to_csv(\"museum_data.csv\")"
   ]
  }
 ],
 "metadata": {
  "interpreter": {
   "hash": "1cd6ffca5e521af8bbdd956d6a5cf6cc8723ce1db8022e82c08350eeea14129b"
  },
  "kernelspec": {
   "display_name": "Python 3.9.7 ('base')",
   "language": "python",
   "name": "python3"
  },
  "language_info": {
   "codemirror_mode": {
    "name": "ipython",
    "version": 3
   },
   "file_extension": ".py",
   "mimetype": "text/x-python",
   "name": "python",
   "nbconvert_exporter": "python",
   "pygments_lexer": "ipython3",
   "version": "3.9.7"
  },
  "orig_nbformat": 4
 },
 "nbformat": 4,
 "nbformat_minor": 2
}
